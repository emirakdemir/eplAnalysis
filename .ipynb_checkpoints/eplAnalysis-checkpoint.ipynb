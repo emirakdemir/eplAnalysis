{
 "cells": [
  {
   "cell_type": "code",
   "execution_count": 1,
   "id": "2b6315cd",
   "metadata": {},
   "outputs": [],
   "source": [
    "import numpy as np\n",
    "import pandas as pd\n",
    "import seaborn as sns\n",
    "import matplotlib.pyplot as plt"
   ]
  },
  {
   "cell_type": "code",
   "execution_count": 2,
   "id": "807396b0",
   "metadata": {},
   "outputs": [
    {
     "data": {
      "text/html": [
       "<div>\n",
       "<style scoped>\n",
       "    .dataframe tbody tr th:only-of-type {\n",
       "        vertical-align: middle;\n",
       "    }\n",
       "\n",
       "    .dataframe tbody tr th {\n",
       "        vertical-align: top;\n",
       "    }\n",
       "\n",
       "    .dataframe thead th {\n",
       "        text-align: right;\n",
       "    }\n",
       "</style>\n",
       "<table border=\"1\" class=\"dataframe\">\n",
       "  <thead>\n",
       "    <tr style=\"text-align: right;\">\n",
       "      <th></th>\n",
       "      <th>name</th>\n",
       "      <th>club</th>\n",
       "      <th>age</th>\n",
       "      <th>position</th>\n",
       "      <th>position_cat</th>\n",
       "      <th>market_value</th>\n",
       "      <th>page_views</th>\n",
       "      <th>fpl_value</th>\n",
       "      <th>fpl_sel</th>\n",
       "      <th>fpl_points</th>\n",
       "      <th>region</th>\n",
       "      <th>nationality</th>\n",
       "      <th>new_foreign</th>\n",
       "      <th>age_cat</th>\n",
       "      <th>club_id</th>\n",
       "      <th>big_club</th>\n",
       "      <th>new_signing</th>\n",
       "    </tr>\n",
       "  </thead>\n",
       "  <tbody>\n",
       "    <tr>\n",
       "      <th>0</th>\n",
       "      <td>Alexis Sanchez</td>\n",
       "      <td>Arsenal</td>\n",
       "      <td>28</td>\n",
       "      <td>LW</td>\n",
       "      <td>1</td>\n",
       "      <td>65.0</td>\n",
       "      <td>4329</td>\n",
       "      <td>12.0</td>\n",
       "      <td>17.10%</td>\n",
       "      <td>264</td>\n",
       "      <td>3.0</td>\n",
       "      <td>Chile</td>\n",
       "      <td>0</td>\n",
       "      <td>4</td>\n",
       "      <td>1</td>\n",
       "      <td>1</td>\n",
       "      <td>0</td>\n",
       "    </tr>\n",
       "    <tr>\n",
       "      <th>1</th>\n",
       "      <td>Mesut Ozil</td>\n",
       "      <td>Arsenal</td>\n",
       "      <td>28</td>\n",
       "      <td>AM</td>\n",
       "      <td>1</td>\n",
       "      <td>50.0</td>\n",
       "      <td>4395</td>\n",
       "      <td>9.5</td>\n",
       "      <td>5.60%</td>\n",
       "      <td>167</td>\n",
       "      <td>2.0</td>\n",
       "      <td>Germany</td>\n",
       "      <td>0</td>\n",
       "      <td>4</td>\n",
       "      <td>1</td>\n",
       "      <td>1</td>\n",
       "      <td>0</td>\n",
       "    </tr>\n",
       "    <tr>\n",
       "      <th>2</th>\n",
       "      <td>Petr Cech</td>\n",
       "      <td>Arsenal</td>\n",
       "      <td>35</td>\n",
       "      <td>GK</td>\n",
       "      <td>4</td>\n",
       "      <td>7.0</td>\n",
       "      <td>1529</td>\n",
       "      <td>5.5</td>\n",
       "      <td>5.90%</td>\n",
       "      <td>134</td>\n",
       "      <td>2.0</td>\n",
       "      <td>Czech Republic</td>\n",
       "      <td>0</td>\n",
       "      <td>6</td>\n",
       "      <td>1</td>\n",
       "      <td>1</td>\n",
       "      <td>0</td>\n",
       "    </tr>\n",
       "    <tr>\n",
       "      <th>3</th>\n",
       "      <td>Theo Walcott</td>\n",
       "      <td>Arsenal</td>\n",
       "      <td>28</td>\n",
       "      <td>RW</td>\n",
       "      <td>1</td>\n",
       "      <td>20.0</td>\n",
       "      <td>2393</td>\n",
       "      <td>7.5</td>\n",
       "      <td>1.50%</td>\n",
       "      <td>122</td>\n",
       "      <td>1.0</td>\n",
       "      <td>England</td>\n",
       "      <td>0</td>\n",
       "      <td>4</td>\n",
       "      <td>1</td>\n",
       "      <td>1</td>\n",
       "      <td>0</td>\n",
       "    </tr>\n",
       "    <tr>\n",
       "      <th>4</th>\n",
       "      <td>Laurent Koscielny</td>\n",
       "      <td>Arsenal</td>\n",
       "      <td>31</td>\n",
       "      <td>CB</td>\n",
       "      <td>3</td>\n",
       "      <td>22.0</td>\n",
       "      <td>912</td>\n",
       "      <td>6.0</td>\n",
       "      <td>0.70%</td>\n",
       "      <td>121</td>\n",
       "      <td>2.0</td>\n",
       "      <td>France</td>\n",
       "      <td>0</td>\n",
       "      <td>4</td>\n",
       "      <td>1</td>\n",
       "      <td>1</td>\n",
       "      <td>0</td>\n",
       "    </tr>\n",
       "  </tbody>\n",
       "</table>\n",
       "</div>"
      ],
      "text/plain": [
       "                name     club  age position  position_cat  market_value  \\\n",
       "0     Alexis Sanchez  Arsenal   28       LW             1          65.0   \n",
       "1         Mesut Ozil  Arsenal   28       AM             1          50.0   \n",
       "2          Petr Cech  Arsenal   35       GK             4           7.0   \n",
       "3       Theo Walcott  Arsenal   28       RW             1          20.0   \n",
       "4  Laurent Koscielny  Arsenal   31       CB             3          22.0   \n",
       "\n",
       "   page_views  fpl_value fpl_sel  fpl_points  region     nationality  \\\n",
       "0        4329       12.0  17.10%         264     3.0           Chile   \n",
       "1        4395        9.5   5.60%         167     2.0         Germany   \n",
       "2        1529        5.5   5.90%         134     2.0  Czech Republic   \n",
       "3        2393        7.5   1.50%         122     1.0         England   \n",
       "4         912        6.0   0.70%         121     2.0          France   \n",
       "\n",
       "   new_foreign  age_cat  club_id  big_club  new_signing  \n",
       "0            0        4        1         1            0  \n",
       "1            0        4        1         1            0  \n",
       "2            0        6        1         1            0  \n",
       "3            0        4        1         1            0  \n",
       "4            0        4        1         1            0  "
      ]
     },
     "execution_count": 2,
     "metadata": {},
     "output_type": "execute_result"
    }
   ],
   "source": [
    "df = pd.read_csv(\"data/premierLeague.csv\")\n",
    "df.head()"
   ]
  },
  {
   "cell_type": "code",
   "execution_count": 3,
   "id": "ec519f2d",
   "metadata": {},
   "outputs": [
    {
     "data": {
      "text/plain": [
       "(461, 17)"
      ]
     },
     "execution_count": 3,
     "metadata": {},
     "output_type": "execute_result"
    }
   ],
   "source": [
    "df.shape"
   ]
  },
  {
   "cell_type": "code",
   "execution_count": 4,
   "id": "1a945520",
   "metadata": {},
   "outputs": [
    {
     "data": {
      "text/plain": [
       "Index(['name', 'club', 'age', 'position', 'position_cat', 'market_value',\n",
       "       'page_views', 'fpl_value', 'fpl_sel', 'fpl_points', 'region',\n",
       "       'nationality', 'new_foreign', 'age_cat', 'club_id', 'big_club',\n",
       "       'new_signing'],\n",
       "      dtype='object')"
      ]
     },
     "execution_count": 4,
     "metadata": {},
     "output_type": "execute_result"
    }
   ],
   "source": [
    "df.columns"
   ]
  },
  {
   "cell_type": "code",
   "execution_count": 5,
   "id": "845f8825",
   "metadata": {},
   "outputs": [
    {
     "data": {
      "text/html": [
       "<div>\n",
       "<style scoped>\n",
       "    .dataframe tbody tr th:only-of-type {\n",
       "        vertical-align: middle;\n",
       "    }\n",
       "\n",
       "    .dataframe tbody tr th {\n",
       "        vertical-align: top;\n",
       "    }\n",
       "\n",
       "    .dataframe thead th {\n",
       "        text-align: right;\n",
       "    }\n",
       "</style>\n",
       "<table border=\"1\" class=\"dataframe\">\n",
       "  <thead>\n",
       "    <tr style=\"text-align: right;\">\n",
       "      <th></th>\n",
       "      <th>age</th>\n",
       "      <th>position_cat</th>\n",
       "      <th>market_value</th>\n",
       "      <th>page_views</th>\n",
       "      <th>fpl_value</th>\n",
       "      <th>fpl_points</th>\n",
       "      <th>region</th>\n",
       "      <th>new_foreign</th>\n",
       "      <th>age_cat</th>\n",
       "      <th>club_id</th>\n",
       "      <th>big_club</th>\n",
       "      <th>new_signing</th>\n",
       "    </tr>\n",
       "  </thead>\n",
       "  <tbody>\n",
       "    <tr>\n",
       "      <th>count</th>\n",
       "      <td>461.000000</td>\n",
       "      <td>461.000000</td>\n",
       "      <td>461.000000</td>\n",
       "      <td>461.000000</td>\n",
       "      <td>461.000000</td>\n",
       "      <td>461.000000</td>\n",
       "      <td>460.000000</td>\n",
       "      <td>461.000000</td>\n",
       "      <td>461.000000</td>\n",
       "      <td>461.000000</td>\n",
       "      <td>461.000000</td>\n",
       "      <td>461.000000</td>\n",
       "    </tr>\n",
       "    <tr>\n",
       "      <th>mean</th>\n",
       "      <td>26.804772</td>\n",
       "      <td>2.180043</td>\n",
       "      <td>11.012039</td>\n",
       "      <td>763.776573</td>\n",
       "      <td>5.447939</td>\n",
       "      <td>57.314534</td>\n",
       "      <td>1.993478</td>\n",
       "      <td>0.034707</td>\n",
       "      <td>3.206074</td>\n",
       "      <td>10.334056</td>\n",
       "      <td>0.303688</td>\n",
       "      <td>0.145336</td>\n",
       "    </tr>\n",
       "    <tr>\n",
       "      <th>std</th>\n",
       "      <td>3.961892</td>\n",
       "      <td>1.000061</td>\n",
       "      <td>12.257403</td>\n",
       "      <td>931.805757</td>\n",
       "      <td>1.346695</td>\n",
       "      <td>53.113811</td>\n",
       "      <td>0.957689</td>\n",
       "      <td>0.183236</td>\n",
       "      <td>1.279795</td>\n",
       "      <td>5.726475</td>\n",
       "      <td>0.460349</td>\n",
       "      <td>0.352822</td>\n",
       "    </tr>\n",
       "    <tr>\n",
       "      <th>min</th>\n",
       "      <td>17.000000</td>\n",
       "      <td>1.000000</td>\n",
       "      <td>0.050000</td>\n",
       "      <td>3.000000</td>\n",
       "      <td>4.000000</td>\n",
       "      <td>0.000000</td>\n",
       "      <td>1.000000</td>\n",
       "      <td>0.000000</td>\n",
       "      <td>1.000000</td>\n",
       "      <td>1.000000</td>\n",
       "      <td>0.000000</td>\n",
       "      <td>0.000000</td>\n",
       "    </tr>\n",
       "    <tr>\n",
       "      <th>25%</th>\n",
       "      <td>24.000000</td>\n",
       "      <td>1.000000</td>\n",
       "      <td>3.000000</td>\n",
       "      <td>220.000000</td>\n",
       "      <td>4.500000</td>\n",
       "      <td>5.000000</td>\n",
       "      <td>1.000000</td>\n",
       "      <td>0.000000</td>\n",
       "      <td>2.000000</td>\n",
       "      <td>6.000000</td>\n",
       "      <td>0.000000</td>\n",
       "      <td>0.000000</td>\n",
       "    </tr>\n",
       "    <tr>\n",
       "      <th>50%</th>\n",
       "      <td>27.000000</td>\n",
       "      <td>2.000000</td>\n",
       "      <td>7.000000</td>\n",
       "      <td>460.000000</td>\n",
       "      <td>5.000000</td>\n",
       "      <td>51.000000</td>\n",
       "      <td>2.000000</td>\n",
       "      <td>0.000000</td>\n",
       "      <td>3.000000</td>\n",
       "      <td>10.000000</td>\n",
       "      <td>0.000000</td>\n",
       "      <td>0.000000</td>\n",
       "    </tr>\n",
       "    <tr>\n",
       "      <th>75%</th>\n",
       "      <td>30.000000</td>\n",
       "      <td>3.000000</td>\n",
       "      <td>15.000000</td>\n",
       "      <td>896.000000</td>\n",
       "      <td>5.500000</td>\n",
       "      <td>94.000000</td>\n",
       "      <td>2.000000</td>\n",
       "      <td>0.000000</td>\n",
       "      <td>4.000000</td>\n",
       "      <td>15.000000</td>\n",
       "      <td>1.000000</td>\n",
       "      <td>0.000000</td>\n",
       "    </tr>\n",
       "    <tr>\n",
       "      <th>max</th>\n",
       "      <td>38.000000</td>\n",
       "      <td>4.000000</td>\n",
       "      <td>75.000000</td>\n",
       "      <td>7664.000000</td>\n",
       "      <td>12.500000</td>\n",
       "      <td>264.000000</td>\n",
       "      <td>4.000000</td>\n",
       "      <td>1.000000</td>\n",
       "      <td>6.000000</td>\n",
       "      <td>20.000000</td>\n",
       "      <td>1.000000</td>\n",
       "      <td>1.000000</td>\n",
       "    </tr>\n",
       "  </tbody>\n",
       "</table>\n",
       "</div>"
      ],
      "text/plain": [
       "              age  position_cat  market_value   page_views   fpl_value  \\\n",
       "count  461.000000    461.000000    461.000000   461.000000  461.000000   \n",
       "mean    26.804772      2.180043     11.012039   763.776573    5.447939   \n",
       "std      3.961892      1.000061     12.257403   931.805757    1.346695   \n",
       "min     17.000000      1.000000      0.050000     3.000000    4.000000   \n",
       "25%     24.000000      1.000000      3.000000   220.000000    4.500000   \n",
       "50%     27.000000      2.000000      7.000000   460.000000    5.000000   \n",
       "75%     30.000000      3.000000     15.000000   896.000000    5.500000   \n",
       "max     38.000000      4.000000     75.000000  7664.000000   12.500000   \n",
       "\n",
       "       fpl_points      region  new_foreign     age_cat     club_id  \\\n",
       "count  461.000000  460.000000   461.000000  461.000000  461.000000   \n",
       "mean    57.314534    1.993478     0.034707    3.206074   10.334056   \n",
       "std     53.113811    0.957689     0.183236    1.279795    5.726475   \n",
       "min      0.000000    1.000000     0.000000    1.000000    1.000000   \n",
       "25%      5.000000    1.000000     0.000000    2.000000    6.000000   \n",
       "50%     51.000000    2.000000     0.000000    3.000000   10.000000   \n",
       "75%     94.000000    2.000000     0.000000    4.000000   15.000000   \n",
       "max    264.000000    4.000000     1.000000    6.000000   20.000000   \n",
       "\n",
       "         big_club  new_signing  \n",
       "count  461.000000   461.000000  \n",
       "mean     0.303688     0.145336  \n",
       "std      0.460349     0.352822  \n",
       "min      0.000000     0.000000  \n",
       "25%      0.000000     0.000000  \n",
       "50%      0.000000     0.000000  \n",
       "75%      1.000000     0.000000  \n",
       "max      1.000000     1.000000  "
      ]
     },
     "execution_count": 5,
     "metadata": {},
     "output_type": "execute_result"
    }
   ],
   "source": [
    "df.describe()"
   ]
  },
  {
   "cell_type": "code",
   "execution_count": 6,
   "id": "8976c226",
   "metadata": {},
   "outputs": [
    {
     "name": "stdout",
     "output_type": "stream",
     "text": [
      "<class 'pandas.core.frame.DataFrame'>\n",
      "RangeIndex: 461 entries, 0 to 460\n",
      "Data columns (total 17 columns):\n",
      " #   Column        Non-Null Count  Dtype  \n",
      "---  ------        --------------  -----  \n",
      " 0   name          461 non-null    object \n",
      " 1   club          461 non-null    object \n",
      " 2   age           461 non-null    int64  \n",
      " 3   position      461 non-null    object \n",
      " 4   position_cat  461 non-null    int64  \n",
      " 5   market_value  461 non-null    float64\n",
      " 6   page_views    461 non-null    int64  \n",
      " 7   fpl_value     461 non-null    float64\n",
      " 8   fpl_sel       461 non-null    object \n",
      " 9   fpl_points    461 non-null    int64  \n",
      " 10  region        460 non-null    float64\n",
      " 11  nationality   461 non-null    object \n",
      " 12  new_foreign   461 non-null    int64  \n",
      " 13  age_cat       461 non-null    int64  \n",
      " 14  club_id       461 non-null    int64  \n",
      " 15  big_club      461 non-null    int64  \n",
      " 16  new_signing   461 non-null    int64  \n",
      "dtypes: float64(3), int64(9), object(5)\n",
      "memory usage: 61.4+ KB\n"
     ]
    }
   ],
   "source": [
    "df.info()"
   ]
  },
  {
   "cell_type": "code",
   "execution_count": 7,
   "id": "19f2116d",
   "metadata": {},
   "outputs": [
    {
     "data": {
      "text/plain": [
       "75.0"
      ]
     },
     "execution_count": 7,
     "metadata": {},
     "output_type": "execute_result"
    }
   ],
   "source": [
    "df['market_value'].max()"
   ]
  },
  {
   "cell_type": "code",
   "execution_count": 8,
   "id": "fa72e93a",
   "metadata": {},
   "outputs": [
    {
     "data": {
      "text/plain": [
       "0.05"
      ]
     },
     "execution_count": 8,
     "metadata": {},
     "output_type": "execute_result"
    }
   ],
   "source": [
    "df['market_value'].min()"
   ]
  },
  {
   "cell_type": "code",
   "execution_count": 9,
   "id": "fed74b0c",
   "metadata": {},
   "outputs": [
    {
     "data": {
      "text/plain": [
       "array(['Arsenal', 'Bournemouth', 'Brighton+and+Hove', 'Burnley',\n",
       "       'Chelsea', 'Crystal+Palace', 'Everton', 'Huddersfield',\n",
       "       'Leicester+City', 'Liverpool', 'Manchester+City',\n",
       "       'Manchester+United', 'Newcastle+United', 'Southampton',\n",
       "       'Stoke+City', 'Swansea', 'Tottenham', 'Watford', 'West+Brom',\n",
       "       'West+Ham'], dtype=object)"
      ]
     },
     "execution_count": 9,
     "metadata": {},
     "output_type": "execute_result"
    }
   ],
   "source": [
    "df['club'].unique()"
   ]
  },
  {
   "cell_type": "code",
   "execution_count": 10,
   "id": "d91faa02",
   "metadata": {},
   "outputs": [
    {
     "name": "stdout",
     "output_type": "stream",
     "text": [
      "clubs         players in each club\n",
      "\n"
     ]
    },
    {
     "data": {
      "text/plain": [
       "Arsenal              28\n",
       "Everton              28\n",
       "Huddersfield         28\n",
       "Liverpool            27\n",
       "Manchester+United    25\n",
       "Swansea              25\n",
       "Watford              24\n",
       "Leicester+City       24\n",
       "Bournemouth          24\n",
       "Southampton          23\n",
       "Stoke+City           22\n",
       "West+Ham             22\n",
       "Brighton+and+Hove    22\n",
       "Newcastle+United     21\n",
       "Crystal+Palace       21\n",
       "Chelsea              20\n",
       "Tottenham            20\n",
       "Manchester+City      20\n",
       "West+Brom            19\n",
       "Burnley              18\n",
       "Name: club, dtype: int64"
      ]
     },
     "execution_count": 10,
     "metadata": {},
     "output_type": "execute_result"
    }
   ],
   "source": [
    "print(\"clubs         players in each club\\n\")\n",
    "df['club'].value_counts() "
   ]
  },
  {
   "cell_type": "code",
   "execution_count": 11,
   "id": "fc090a8c",
   "metadata": {},
   "outputs": [
    {
     "data": {
      "text/plain": [
       "array(['LW', 'AM', 'GK', 'RW', 'CB', 'RB', 'CF', 'LB', 'DM', 'RM', 'CM',\n",
       "       'SS', 'LM'], dtype=object)"
      ]
     },
     "execution_count": 11,
     "metadata": {},
     "output_type": "execute_result"
    }
   ],
   "source": [
    "df['position'].unique()"
   ]
  },
  {
   "cell_type": "code",
   "execution_count": 12,
   "id": "9a4b3011",
   "metadata": {},
   "outputs": [
    {
     "data": {
      "text/plain": [
       "CB    85\n",
       "CM    63\n",
       "CF    61\n",
       "GK    42\n",
       "LW    36\n",
       "DM    36\n",
       "LB    35\n",
       "RB    34\n",
       "RW    32\n",
       "AM    17\n",
       "LM     8\n",
       "SS     7\n",
       "RM     5\n",
       "Name: position, dtype: int64"
      ]
     },
     "execution_count": 12,
     "metadata": {},
     "output_type": "execute_result"
    }
   ],
   "source": [
    "df['position'].value_counts()"
   ]
  },
  {
   "cell_type": "code",
   "execution_count": 13,
   "id": "e071ef81",
   "metadata": {},
   "outputs": [
    {
     "data": {
      "text/plain": [
       "0      False\n",
       "1      False\n",
       "2      False\n",
       "3      False\n",
       "4      False\n",
       "       ...  \n",
       "456    False\n",
       "457    False\n",
       "458    False\n",
       "459    False\n",
       "460    False\n",
       "Length: 461, dtype: bool"
      ]
     },
     "execution_count": 13,
     "metadata": {},
     "output_type": "execute_result"
    }
   ],
   "source": [
    "df.duplicated()"
   ]
  },
  {
   "cell_type": "code",
   "execution_count": 14,
   "id": "daf58c74",
   "metadata": {},
   "outputs": [
    {
     "data": {
      "text/plain": [
       "name            Alexis SanchezMesut OzilPetr CechTheo WalcottL...\n",
       "club            ArsenalArsenalArsenalArsenalArsenalArsenalArse...\n",
       "age                                                         12357\n",
       "position        LWAMGKRWCBRBCFLBCBLWDMRMCMCMDMCBLBCMCFCBDMCFGK...\n",
       "position_cat                                                 1005\n",
       "market_value                                              5076.55\n",
       "page_views                                                 352101\n",
       "fpl_value                                                  2511.5\n",
       "fpl_sel         17.10%5.60%5.90%1.50%0.70%13.70%2.50%4.70%4.00...\n",
       "fpl_points                                                  26422\n",
       "region                                                      917.0\n",
       "nationality     ChileGermanyCzech RepublicEnglandFranceSpainFr...\n",
       "new_foreign                                                    16\n",
       "age_cat                                                      1478\n",
       "club_id                                                      4764\n",
       "big_club                                                      140\n",
       "new_signing                                                    67\n",
       "dtype: object"
      ]
     },
     "execution_count": 14,
     "metadata": {},
     "output_type": "execute_result"
    }
   ],
   "source": [
    "df.sum()"
   ]
  },
  {
   "cell_type": "code",
   "execution_count": 15,
   "id": "1814f088",
   "metadata": {},
   "outputs": [
    {
     "data": {
      "text/html": [
       "<div>\n",
       "<style scoped>\n",
       "    .dataframe tbody tr th:only-of-type {\n",
       "        vertical-align: middle;\n",
       "    }\n",
       "\n",
       "    .dataframe tbody tr th {\n",
       "        vertical-align: top;\n",
       "    }\n",
       "\n",
       "    .dataframe thead th {\n",
       "        text-align: right;\n",
       "    }\n",
       "</style>\n",
       "<table border=\"1\" class=\"dataframe\">\n",
       "  <thead>\n",
       "    <tr style=\"text-align: right;\">\n",
       "      <th></th>\n",
       "      <th>name</th>\n",
       "      <th>club</th>\n",
       "      <th>age</th>\n",
       "      <th>position</th>\n",
       "      <th>position_cat</th>\n",
       "      <th>market_value</th>\n",
       "      <th>page_views</th>\n",
       "      <th>fpl_value</th>\n",
       "      <th>fpl_sel</th>\n",
       "      <th>fpl_points</th>\n",
       "      <th>region</th>\n",
       "      <th>nationality</th>\n",
       "      <th>new_foreign</th>\n",
       "      <th>age_cat</th>\n",
       "      <th>club_id</th>\n",
       "      <th>big_club</th>\n",
       "      <th>new_signing</th>\n",
       "    </tr>\n",
       "  </thead>\n",
       "  <tbody>\n",
       "    <tr>\n",
       "      <th>0</th>\n",
       "      <td>False</td>\n",
       "      <td>False</td>\n",
       "      <td>False</td>\n",
       "      <td>False</td>\n",
       "      <td>False</td>\n",
       "      <td>False</td>\n",
       "      <td>False</td>\n",
       "      <td>False</td>\n",
       "      <td>False</td>\n",
       "      <td>False</td>\n",
       "      <td>False</td>\n",
       "      <td>False</td>\n",
       "      <td>False</td>\n",
       "      <td>False</td>\n",
       "      <td>False</td>\n",
       "      <td>False</td>\n",
       "      <td>False</td>\n",
       "    </tr>\n",
       "    <tr>\n",
       "      <th>1</th>\n",
       "      <td>False</td>\n",
       "      <td>False</td>\n",
       "      <td>False</td>\n",
       "      <td>False</td>\n",
       "      <td>False</td>\n",
       "      <td>False</td>\n",
       "      <td>False</td>\n",
       "      <td>False</td>\n",
       "      <td>False</td>\n",
       "      <td>False</td>\n",
       "      <td>False</td>\n",
       "      <td>False</td>\n",
       "      <td>False</td>\n",
       "      <td>False</td>\n",
       "      <td>False</td>\n",
       "      <td>False</td>\n",
       "      <td>False</td>\n",
       "    </tr>\n",
       "    <tr>\n",
       "      <th>2</th>\n",
       "      <td>False</td>\n",
       "      <td>False</td>\n",
       "      <td>False</td>\n",
       "      <td>False</td>\n",
       "      <td>False</td>\n",
       "      <td>False</td>\n",
       "      <td>False</td>\n",
       "      <td>False</td>\n",
       "      <td>False</td>\n",
       "      <td>False</td>\n",
       "      <td>False</td>\n",
       "      <td>False</td>\n",
       "      <td>False</td>\n",
       "      <td>False</td>\n",
       "      <td>False</td>\n",
       "      <td>False</td>\n",
       "      <td>False</td>\n",
       "    </tr>\n",
       "    <tr>\n",
       "      <th>3</th>\n",
       "      <td>False</td>\n",
       "      <td>False</td>\n",
       "      <td>False</td>\n",
       "      <td>False</td>\n",
       "      <td>False</td>\n",
       "      <td>False</td>\n",
       "      <td>False</td>\n",
       "      <td>False</td>\n",
       "      <td>False</td>\n",
       "      <td>False</td>\n",
       "      <td>False</td>\n",
       "      <td>False</td>\n",
       "      <td>False</td>\n",
       "      <td>False</td>\n",
       "      <td>False</td>\n",
       "      <td>False</td>\n",
       "      <td>False</td>\n",
       "    </tr>\n",
       "    <tr>\n",
       "      <th>4</th>\n",
       "      <td>False</td>\n",
       "      <td>False</td>\n",
       "      <td>False</td>\n",
       "      <td>False</td>\n",
       "      <td>False</td>\n",
       "      <td>False</td>\n",
       "      <td>False</td>\n",
       "      <td>False</td>\n",
       "      <td>False</td>\n",
       "      <td>False</td>\n",
       "      <td>False</td>\n",
       "      <td>False</td>\n",
       "      <td>False</td>\n",
       "      <td>False</td>\n",
       "      <td>False</td>\n",
       "      <td>False</td>\n",
       "      <td>False</td>\n",
       "    </tr>\n",
       "    <tr>\n",
       "      <th>...</th>\n",
       "      <td>...</td>\n",
       "      <td>...</td>\n",
       "      <td>...</td>\n",
       "      <td>...</td>\n",
       "      <td>...</td>\n",
       "      <td>...</td>\n",
       "      <td>...</td>\n",
       "      <td>...</td>\n",
       "      <td>...</td>\n",
       "      <td>...</td>\n",
       "      <td>...</td>\n",
       "      <td>...</td>\n",
       "      <td>...</td>\n",
       "      <td>...</td>\n",
       "      <td>...</td>\n",
       "      <td>...</td>\n",
       "      <td>...</td>\n",
       "    </tr>\n",
       "    <tr>\n",
       "      <th>456</th>\n",
       "      <td>False</td>\n",
       "      <td>False</td>\n",
       "      <td>False</td>\n",
       "      <td>False</td>\n",
       "      <td>False</td>\n",
       "      <td>False</td>\n",
       "      <td>False</td>\n",
       "      <td>False</td>\n",
       "      <td>False</td>\n",
       "      <td>False</td>\n",
       "      <td>False</td>\n",
       "      <td>False</td>\n",
       "      <td>False</td>\n",
       "      <td>False</td>\n",
       "      <td>False</td>\n",
       "      <td>False</td>\n",
       "      <td>False</td>\n",
       "    </tr>\n",
       "    <tr>\n",
       "      <th>457</th>\n",
       "      <td>False</td>\n",
       "      <td>False</td>\n",
       "      <td>False</td>\n",
       "      <td>False</td>\n",
       "      <td>False</td>\n",
       "      <td>False</td>\n",
       "      <td>False</td>\n",
       "      <td>False</td>\n",
       "      <td>False</td>\n",
       "      <td>False</td>\n",
       "      <td>False</td>\n",
       "      <td>False</td>\n",
       "      <td>False</td>\n",
       "      <td>False</td>\n",
       "      <td>False</td>\n",
       "      <td>False</td>\n",
       "      <td>False</td>\n",
       "    </tr>\n",
       "    <tr>\n",
       "      <th>458</th>\n",
       "      <td>False</td>\n",
       "      <td>False</td>\n",
       "      <td>False</td>\n",
       "      <td>False</td>\n",
       "      <td>False</td>\n",
       "      <td>False</td>\n",
       "      <td>False</td>\n",
       "      <td>False</td>\n",
       "      <td>False</td>\n",
       "      <td>False</td>\n",
       "      <td>False</td>\n",
       "      <td>False</td>\n",
       "      <td>False</td>\n",
       "      <td>False</td>\n",
       "      <td>False</td>\n",
       "      <td>False</td>\n",
       "      <td>False</td>\n",
       "    </tr>\n",
       "    <tr>\n",
       "      <th>459</th>\n",
       "      <td>False</td>\n",
       "      <td>False</td>\n",
       "      <td>False</td>\n",
       "      <td>False</td>\n",
       "      <td>False</td>\n",
       "      <td>False</td>\n",
       "      <td>False</td>\n",
       "      <td>False</td>\n",
       "      <td>False</td>\n",
       "      <td>False</td>\n",
       "      <td>False</td>\n",
       "      <td>False</td>\n",
       "      <td>False</td>\n",
       "      <td>False</td>\n",
       "      <td>False</td>\n",
       "      <td>False</td>\n",
       "      <td>False</td>\n",
       "    </tr>\n",
       "    <tr>\n",
       "      <th>460</th>\n",
       "      <td>False</td>\n",
       "      <td>False</td>\n",
       "      <td>False</td>\n",
       "      <td>False</td>\n",
       "      <td>False</td>\n",
       "      <td>False</td>\n",
       "      <td>False</td>\n",
       "      <td>False</td>\n",
       "      <td>False</td>\n",
       "      <td>False</td>\n",
       "      <td>False</td>\n",
       "      <td>False</td>\n",
       "      <td>False</td>\n",
       "      <td>False</td>\n",
       "      <td>False</td>\n",
       "      <td>False</td>\n",
       "      <td>False</td>\n",
       "    </tr>\n",
       "  </tbody>\n",
       "</table>\n",
       "<p>461 rows × 17 columns</p>\n",
       "</div>"
      ],
      "text/plain": [
       "      name   club    age  position  position_cat  market_value  page_views  \\\n",
       "0    False  False  False     False         False         False       False   \n",
       "1    False  False  False     False         False         False       False   \n",
       "2    False  False  False     False         False         False       False   \n",
       "3    False  False  False     False         False         False       False   \n",
       "4    False  False  False     False         False         False       False   \n",
       "..     ...    ...    ...       ...           ...           ...         ...   \n",
       "456  False  False  False     False         False         False       False   \n",
       "457  False  False  False     False         False         False       False   \n",
       "458  False  False  False     False         False         False       False   \n",
       "459  False  False  False     False         False         False       False   \n",
       "460  False  False  False     False         False         False       False   \n",
       "\n",
       "     fpl_value  fpl_sel  fpl_points  region  nationality  new_foreign  \\\n",
       "0        False    False       False   False        False        False   \n",
       "1        False    False       False   False        False        False   \n",
       "2        False    False       False   False        False        False   \n",
       "3        False    False       False   False        False        False   \n",
       "4        False    False       False   False        False        False   \n",
       "..         ...      ...         ...     ...          ...          ...   \n",
       "456      False    False       False   False        False        False   \n",
       "457      False    False       False   False        False        False   \n",
       "458      False    False       False   False        False        False   \n",
       "459      False    False       False   False        False        False   \n",
       "460      False    False       False   False        False        False   \n",
       "\n",
       "     age_cat  club_id  big_club  new_signing  \n",
       "0      False    False     False        False  \n",
       "1      False    False     False        False  \n",
       "2      False    False     False        False  \n",
       "3      False    False     False        False  \n",
       "4      False    False     False        False  \n",
       "..       ...      ...       ...          ...  \n",
       "456    False    False     False        False  \n",
       "457    False    False     False        False  \n",
       "458    False    False     False        False  \n",
       "459    False    False     False        False  \n",
       "460    False    False     False        False  \n",
       "\n",
       "[461 rows x 17 columns]"
      ]
     },
     "execution_count": 15,
     "metadata": {},
     "output_type": "execute_result"
    }
   ],
   "source": [
    "df.isnull()"
   ]
  },
  {
   "cell_type": "code",
   "execution_count": 16,
   "id": "d6d8900a",
   "metadata": {},
   "outputs": [
    {
     "data": {
      "text/plain": [
       "True"
      ]
     },
     "execution_count": 16,
     "metadata": {},
     "output_type": "execute_result"
    }
   ],
   "source": [
    "df.isnull().values.any()"
   ]
  },
  {
   "cell_type": "code",
   "execution_count": 17,
   "id": "cae5c1d9",
   "metadata": {},
   "outputs": [
    {
     "data": {
      "text/plain": [
       "name            0\n",
       "club            0\n",
       "age             0\n",
       "position        0\n",
       "position_cat    0\n",
       "market_value    0\n",
       "page_views      0\n",
       "fpl_value       0\n",
       "fpl_sel         0\n",
       "fpl_points      0\n",
       "region          1\n",
       "nationality     0\n",
       "new_foreign     0\n",
       "age_cat         0\n",
       "club_id         0\n",
       "big_club        0\n",
       "new_signing     0\n",
       "dtype: int64"
      ]
     },
     "execution_count": 17,
     "metadata": {},
     "output_type": "execute_result"
    }
   ],
   "source": [
    "df.isnull().sum()"
   ]
  },
  {
   "cell_type": "code",
   "execution_count": 18,
   "id": "82e78f82",
   "metadata": {},
   "outputs": [
    {
     "data": {
      "text/plain": [
       "0      False\n",
       "1      False\n",
       "2      False\n",
       "3      False\n",
       "4      False\n",
       "       ...  \n",
       "456    False\n",
       "457    False\n",
       "458    False\n",
       "459    False\n",
       "460    False\n",
       "Name: region, Length: 461, dtype: bool"
      ]
     },
     "execution_count": 18,
     "metadata": {},
     "output_type": "execute_result"
    }
   ],
   "source": [
    "df['region'] == 0"
   ]
  },
  {
   "cell_type": "code",
   "execution_count": 19,
   "id": "97de122c",
   "metadata": {},
   "outputs": [
    {
     "data": {
      "text/html": [
       "<div>\n",
       "<style scoped>\n",
       "    .dataframe tbody tr th:only-of-type {\n",
       "        vertical-align: middle;\n",
       "    }\n",
       "\n",
       "    .dataframe tbody tr th {\n",
       "        vertical-align: top;\n",
       "    }\n",
       "\n",
       "    .dataframe thead th {\n",
       "        text-align: right;\n",
       "    }\n",
       "</style>\n",
       "<table border=\"1\" class=\"dataframe\">\n",
       "  <thead>\n",
       "    <tr style=\"text-align: right;\">\n",
       "      <th></th>\n",
       "      <th>name</th>\n",
       "      <th>club</th>\n",
       "      <th>age</th>\n",
       "      <th>position</th>\n",
       "      <th>position_cat</th>\n",
       "      <th>market_value</th>\n",
       "      <th>page_views</th>\n",
       "      <th>fpl_value</th>\n",
       "      <th>fpl_sel</th>\n",
       "      <th>fpl_points</th>\n",
       "      <th>region</th>\n",
       "      <th>nationality</th>\n",
       "      <th>new_foreign</th>\n",
       "      <th>age_cat</th>\n",
       "      <th>club_id</th>\n",
       "      <th>big_club</th>\n",
       "      <th>new_signing</th>\n",
       "    </tr>\n",
       "  </thead>\n",
       "  <tbody>\n",
       "    <tr>\n",
       "      <th>188</th>\n",
       "      <td>Steve Mounie</td>\n",
       "      <td>Huddersfield</td>\n",
       "      <td>22</td>\n",
       "      <td>CF</td>\n",
       "      <td>1</td>\n",
       "      <td>5.5</td>\n",
       "      <td>56</td>\n",
       "      <td>6.0</td>\n",
       "      <td>0.60%</td>\n",
       "      <td>0</td>\n",
       "      <td>NaN</td>\n",
       "      <td>Benin</td>\n",
       "      <td>0</td>\n",
       "      <td>2</td>\n",
       "      <td>8</td>\n",
       "      <td>0</td>\n",
       "      <td>0</td>\n",
       "    </tr>\n",
       "  </tbody>\n",
       "</table>\n",
       "</div>"
      ],
      "text/plain": [
       "             name          club  age position  position_cat  market_value  \\\n",
       "188  Steve Mounie  Huddersfield   22       CF             1           5.5   \n",
       "\n",
       "     page_views  fpl_value fpl_sel  fpl_points  region nationality  \\\n",
       "188          56        6.0   0.60%           0     NaN       Benin   \n",
       "\n",
       "     new_foreign  age_cat  club_id  big_club  new_signing  \n",
       "188            0        2        8         0            0  "
      ]
     },
     "execution_count": 19,
     "metadata": {},
     "output_type": "execute_result"
    }
   ],
   "source": [
    "df[df['region'].isnull()]"
   ]
  },
  {
   "cell_type": "code",
   "execution_count": 20,
   "id": "2fd77633",
   "metadata": {},
   "outputs": [
    {
     "data": {
      "text/plain": [
       "name            Steve Mounie\n",
       "club            Huddersfield\n",
       "age                       22\n",
       "position                  CF\n",
       "position_cat               1\n",
       "market_value             5.5\n",
       "page_views                56\n",
       "fpl_value                6.0\n",
       "fpl_sel                0.60%\n",
       "fpl_points                 0\n",
       "region                   NaN\n",
       "nationality            Benin\n",
       "new_foreign                0\n",
       "age_cat                    2\n",
       "club_id                    8\n",
       "big_club                   0\n",
       "new_signing                0\n",
       "Name: 188, dtype: object"
      ]
     },
     "metadata": {},
     "output_type": "display_data"
    }
   ],
   "source": [
    "display(df.iloc[188])"
   ]
  },
  {
   "cell_type": "code",
   "execution_count": 21,
   "id": "f073f3d4",
   "metadata": {},
   "outputs": [],
   "source": [
    "df['region'] = df['region'].replace(np.nan, 4)"
   ]
  },
  {
   "cell_type": "code",
   "execution_count": 22,
   "id": "beb271dc",
   "metadata": {},
   "outputs": [
    {
     "data": {
      "text/plain": [
       "name            Steve Mounie\n",
       "club            Huddersfield\n",
       "age                       22\n",
       "position                  CF\n",
       "position_cat               1\n",
       "market_value             5.5\n",
       "page_views                56\n",
       "fpl_value                6.0\n",
       "fpl_sel                0.60%\n",
       "fpl_points                 0\n",
       "region                   4.0\n",
       "nationality            Benin\n",
       "new_foreign                0\n",
       "age_cat                    2\n",
       "club_id                    8\n",
       "big_club                   0\n",
       "new_signing                0\n",
       "Name: 188, dtype: object"
      ]
     },
     "metadata": {},
     "output_type": "display_data"
    }
   ],
   "source": [
    "display(df.iloc[188])"
   ]
  },
  {
   "cell_type": "code",
   "execution_count": 23,
   "id": "59c4834b",
   "metadata": {},
   "outputs": [
    {
     "data": {
      "text/plain": [
       "name            0\n",
       "club            0\n",
       "age             0\n",
       "position        0\n",
       "position_cat    0\n",
       "market_value    0\n",
       "page_views      0\n",
       "fpl_value       0\n",
       "fpl_sel         0\n",
       "fpl_points      0\n",
       "region          0\n",
       "nationality     0\n",
       "new_foreign     0\n",
       "age_cat         0\n",
       "club_id         0\n",
       "big_club        0\n",
       "new_signing     0\n",
       "dtype: int64"
      ]
     },
     "execution_count": 23,
     "metadata": {},
     "output_type": "execute_result"
    }
   ],
   "source": [
    "df.isnull().sum()"
   ]
  },
  {
   "cell_type": "code",
   "execution_count": 24,
   "id": "73b8e26c",
   "metadata": {},
   "outputs": [
    {
     "data": {
      "text/plain": [
       "name             object\n",
       "club             object\n",
       "age               int64\n",
       "position         object\n",
       "position_cat      int64\n",
       "market_value    float64\n",
       "page_views        int64\n",
       "fpl_value       float64\n",
       "fpl_sel          object\n",
       "fpl_points        int64\n",
       "region          float64\n",
       "nationality      object\n",
       "new_foreign       int64\n",
       "age_cat           int64\n",
       "club_id           int64\n",
       "big_club          int64\n",
       "new_signing       int64\n",
       "dtype: object"
      ]
     },
     "execution_count": 24,
     "metadata": {},
     "output_type": "execute_result"
    }
   ],
   "source": [
    "df.dtypes"
   ]
  },
  {
   "cell_type": "code",
   "execution_count": 25,
   "id": "e9f9c141",
   "metadata": {},
   "outputs": [
    {
     "data": {
      "text/plain": [
       "<AxesSubplot:xlabel='position_cat', ylabel='market_value'>"
      ]
     },
     "execution_count": 25,
     "metadata": {},
     "output_type": "execute_result"
    },
    {
     "data": {
      "image/png": "[encoded data removed]",
      "text/plain": [
       "<Figure size 432x288 with 1 Axes>"
      ]
     },
     "metadata": {
      "needs_background": "light"
     },
     "output_type": "display_data"
    }
   ],
   "source": [
    "sns.barplot(data=df,x='position_cat',y='market_value')"
   ]
  },
  {
   "cell_type": "code",
   "execution_count": 26,
   "id": "7f1298fe",
   "metadata": {},
   "outputs": [
    {
     "data": {
      "text/plain": [
       "<AxesSubplot:xlabel='club', ylabel='market_value'>"
      ]
     },
     "execution_count": 26,
     "metadata": {},
     "output_type": "execute_result"
    },
    {
     "data": {
      "image/png": "[encoded data removed]",
      "text/plain": [
       "<Figure size 432x288 with 1 Axes>"
      ]
     },
     "metadata": {
      "needs_background": "light"
     },
     "output_type": "display_data"
    }
   ],
   "source": [
    "sns.barplot(data=df,x='club',y='market_value')"
   ]
  },
  {
   "cell_type": "code",
   "execution_count": 27,
   "id": "4e68c83c",
   "metadata": {},
   "outputs": [
    {
     "data": {
      "text/plain": [
       "<AxesSubplot:xlabel='page_views', ylabel='market_value'>"
      ]
     },
     "execution_count": 27,
     "metadata": {},
     "output_type": "execute_result"
    },
    {
     "data": {
      "image/png": "[encoded data removed]",
      "text/plain": [
       "<Figure size 432x288 with 1 Axes>"
      ]
     },
     "metadata": {
      "needs_background": "light"
     },
     "output_type": "display_data"
    }
   ],
   "source": [
    "sns.scatterplot(data=df,x='page_views',y='market_value')"
   ]
  },
  {
   "cell_type": "code",
   "execution_count": 28,
   "id": "22121136",
   "metadata": {},
   "outputs": [
    {
     "data": {
      "text/plain": [
       "<AxesSubplot:xlabel='page_views', ylabel='age'>"
      ]
     },
     "execution_count": 28,
     "metadata": {},
     "output_type": "execute_result"
    },
    {
     "data": {
      "image/png": "[encoded data removed]",
      "text/plain": [
       "<Figure size 432x288 with 1 Axes>"
      ]
     },
     "metadata": {
      "needs_background": "light"
     },
     "output_type": "display_data"
    }
   ],
   "source": [
    "sns.scatterplot(data=df,x='page_views',y='age')"
   ]
  },
  {
   "cell_type": "code",
   "execution_count": 29,
   "id": "4ebcc835",
   "metadata": {},
   "outputs": [
    {
     "data": {
      "text/plain": [
       "<AxesSubplot:xlabel='page_views', ylabel='fpl_value'>"
      ]
     },
     "execution_count": 29,
     "metadata": {},
     "output_type": "execute_result"
    },
    {
     "data": {
      "image/png": "[encoded data removed]",
      "text/plain": [
       "<Figure size 432x288 with 1 Axes>"
      ]
     },
     "metadata": {
      "needs_background": "light"
     },
     "output_type": "display_data"
    }
   ],
   "source": [
    "sns.scatterplot(data=df,x='page_views',y='fpl_value')"
   ]
  },
  {
   "cell_type": "code",
   "execution_count": 30,
   "id": "f39b0cc1",
   "metadata": {},
   "outputs": [
    {
     "data": {
      "text/plain": [
       "<AxesSubplot:xlabel='page_views', ylabel='fpl_points'>"
      ]
     },
     "execution_count": 30,
     "metadata": {},
     "output_type": "execute_result"
    },
    {
     "data": {
      "image/png": "[encoded data removed]",
      "text/plain": [
       "<Figure size 432x288 with 1 Axes>"
      ]
     },
     "metadata": {
      "needs_background": "light"
     },
     "output_type": "display_data"
    }
   ],
   "source": [
    "sns.scatterplot(data=df,x='page_views',y='fpl_points')"
   ]
  },
  {
   "cell_type": "code",
   "execution_count": 31,
   "id": "0487761c",
   "metadata": {},
   "outputs": [
    {
     "data": {
      "image/png": "[encoded data removed]",
      "text/plain": [
       "<Figure size 1080x432 with 1 Axes>"
      ]
     },
     "metadata": {
      "needs_background": "light"
     },
     "output_type": "display_data"
    }
   ],
   "source": [
    "dfview = df.nlargest(10, 'page_views').sort_values('page_views',ascending=False)\n",
    "plt.subplots(figsize=(15,6))\n",
    "sns.barplot(x=\"name\", y=\"page_views\",  data=dfview ,palette='hot',edgecolor=sns.color_palette('dark',7))\n",
    "plt.xticks(rotation=90)\n",
    "plt.title('top 10 most viewed premier league player season 2017/2018')\n",
    "plt.show()"
   ]
  },
  {
   "cell_type": "code",
   "execution_count": 32,
   "id": "a629a3ad",
   "metadata": {},
   "outputs": [
    {
     "data": {
      "text/html": [
       "<div>\n",
       "<style scoped>\n",
       "    .dataframe tbody tr th:only-of-type {\n",
       "        vertical-align: middle;\n",
       "    }\n",
       "\n",
       "    .dataframe tbody tr th {\n",
       "        vertical-align: top;\n",
       "    }\n",
       "\n",
       "    .dataframe thead th {\n",
       "        text-align: right;\n",
       "    }\n",
       "</style>\n",
       "<table border=\"1\" class=\"dataframe\">\n",
       "  <thead>\n",
       "    <tr style=\"text-align: right;\">\n",
       "      <th></th>\n",
       "      <th>age</th>\n",
       "      <th>position_cat</th>\n",
       "      <th>market_value</th>\n",
       "      <th>page_views</th>\n",
       "      <th>fpl_value</th>\n",
       "      <th>fpl_points</th>\n",
       "      <th>region</th>\n",
       "      <th>new_foreign</th>\n",
       "      <th>age_cat</th>\n",
       "      <th>club_id</th>\n",
       "      <th>big_club</th>\n",
       "      <th>new_signing</th>\n",
       "    </tr>\n",
       "  </thead>\n",
       "  <tbody>\n",
       "    <tr>\n",
       "      <th>age</th>\n",
       "      <td>1.000000</td>\n",
       "      <td>0.220678</td>\n",
       "      <td>-0.132396</td>\n",
       "      <td>-0.048682</td>\n",
       "      <td>-0.097659</td>\n",
       "      <td>0.187785</td>\n",
       "      <td>0.080379</td>\n",
       "      <td>-0.125400</td>\n",
       "      <td>0.972199</td>\n",
       "      <td>-0.002868</td>\n",
       "      <td>-0.123566</td>\n",
       "      <td>-0.079190</td>\n",
       "    </tr>\n",
       "    <tr>\n",
       "      <th>position_cat</th>\n",
       "      <td>0.220678</td>\n",
       "      <td>1.000000</td>\n",
       "      <td>-0.217637</td>\n",
       "      <td>-0.279432</td>\n",
       "      <td>-0.491800</td>\n",
       "      <td>-0.084682</td>\n",
       "      <td>-0.067439</td>\n",
       "      <td>0.001415</td>\n",
       "      <td>0.196853</td>\n",
       "      <td>-0.016599</td>\n",
       "      <td>0.017915</td>\n",
       "      <td>-0.105127</td>\n",
       "    </tr>\n",
       "    <tr>\n",
       "      <th>market_value</th>\n",
       "      <td>-0.132396</td>\n",
       "      <td>-0.217637</td>\n",
       "      <td>1.000000</td>\n",
       "      <td>0.739657</td>\n",
       "      <td>0.788653</td>\n",
       "      <td>0.615155</td>\n",
       "      <td>0.099114</td>\n",
       "      <td>0.098056</td>\n",
       "      <td>-0.117682</td>\n",
       "      <td>-0.046068</td>\n",
       "      <td>0.593483</td>\n",
       "      <td>0.131321</td>\n",
       "    </tr>\n",
       "    <tr>\n",
       "      <th>page_views</th>\n",
       "      <td>-0.048682</td>\n",
       "      <td>-0.279432</td>\n",
       "      <td>0.739657</td>\n",
       "      <td>1.000000</td>\n",
       "      <td>0.730640</td>\n",
       "      <td>0.542464</td>\n",
       "      <td>0.027441</td>\n",
       "      <td>-0.049725</td>\n",
       "      <td>-0.041672</td>\n",
       "      <td>-0.092409</td>\n",
       "      <td>0.502982</td>\n",
       "      <td>0.127249</td>\n",
       "    </tr>\n",
       "    <tr>\n",
       "      <th>fpl_value</th>\n",
       "      <td>-0.097659</td>\n",
       "      <td>-0.491800</td>\n",
       "      <td>0.788653</td>\n",
       "      <td>0.730640</td>\n",
       "      <td>1.000000</td>\n",
       "      <td>0.618837</td>\n",
       "      <td>0.083883</td>\n",
       "      <td>0.108650</td>\n",
       "      <td>-0.082056</td>\n",
       "      <td>-0.060884</td>\n",
       "      <td>0.423556</td>\n",
       "      <td>0.098314</td>\n",
       "    </tr>\n",
       "    <tr>\n",
       "      <th>fpl_points</th>\n",
       "      <td>0.187785</td>\n",
       "      <td>-0.084682</td>\n",
       "      <td>0.615155</td>\n",
       "      <td>0.542464</td>\n",
       "      <td>0.618837</td>\n",
       "      <td>1.000000</td>\n",
       "      <td>-0.011569</td>\n",
       "      <td>-0.204837</td>\n",
       "      <td>0.176572</td>\n",
       "      <td>0.041094</td>\n",
       "      <td>0.280061</td>\n",
       "      <td>0.085720</td>\n",
       "    </tr>\n",
       "    <tr>\n",
       "      <th>region</th>\n",
       "      <td>0.080379</td>\n",
       "      <td>-0.067439</td>\n",
       "      <td>0.099114</td>\n",
       "      <td>0.027441</td>\n",
       "      <td>0.083883</td>\n",
       "      <td>-0.011569</td>\n",
       "      <td>1.000000</td>\n",
       "      <td>0.049800</td>\n",
       "      <td>0.085190</td>\n",
       "      <td>0.066483</td>\n",
       "      <td>0.035883</td>\n",
       "      <td>0.174007</td>\n",
       "    </tr>\n",
       "    <tr>\n",
       "      <th>new_foreign</th>\n",
       "      <td>-0.125400</td>\n",
       "      <td>0.001415</td>\n",
       "      <td>0.098056</td>\n",
       "      <td>-0.049725</td>\n",
       "      <td>0.108650</td>\n",
       "      <td>-0.204837</td>\n",
       "      <td>0.049800</td>\n",
       "      <td>1.000000</td>\n",
       "      <td>-0.113998</td>\n",
       "      <td>-0.002786</td>\n",
       "      <td>0.080949</td>\n",
       "      <td>-0.078193</td>\n",
       "    </tr>\n",
       "    <tr>\n",
       "      <th>age_cat</th>\n",
       "      <td>0.972199</td>\n",
       "      <td>0.196853</td>\n",
       "      <td>-0.117682</td>\n",
       "      <td>-0.041672</td>\n",
       "      <td>-0.082056</td>\n",
       "      <td>0.176572</td>\n",
       "      <td>0.085190</td>\n",
       "      <td>-0.113998</td>\n",
       "      <td>1.000000</td>\n",
       "      <td>-0.004668</td>\n",
       "      <td>-0.113835</td>\n",
       "      <td>-0.076102</td>\n",
       "    </tr>\n",
       "    <tr>\n",
       "      <th>club_id</th>\n",
       "      <td>-0.002868</td>\n",
       "      <td>-0.016599</td>\n",
       "      <td>-0.046068</td>\n",
       "      <td>-0.092409</td>\n",
       "      <td>-0.060884</td>\n",
       "      <td>0.041094</td>\n",
       "      <td>0.066483</td>\n",
       "      <td>-0.002786</td>\n",
       "      <td>-0.004668</td>\n",
       "      <td>1.000000</td>\n",
       "      <td>-0.155667</td>\n",
       "      <td>0.134085</td>\n",
       "    </tr>\n",
       "    <tr>\n",
       "      <th>big_club</th>\n",
       "      <td>-0.123566</td>\n",
       "      <td>0.017915</td>\n",
       "      <td>0.593483</td>\n",
       "      <td>0.502982</td>\n",
       "      <td>0.423556</td>\n",
       "      <td>0.280061</td>\n",
       "      <td>0.035883</td>\n",
       "      <td>0.080949</td>\n",
       "      <td>-0.113835</td>\n",
       "      <td>-0.155667</td>\n",
       "      <td>1.000000</td>\n",
       "      <td>0.035508</td>\n",
       "    </tr>\n",
       "    <tr>\n",
       "      <th>new_signing</th>\n",
       "      <td>-0.079190</td>\n",
       "      <td>-0.105127</td>\n",
       "      <td>0.131321</td>\n",
       "      <td>0.127249</td>\n",
       "      <td>0.098314</td>\n",
       "      <td>0.085720</td>\n",
       "      <td>0.174007</td>\n",
       "      <td>-0.078193</td>\n",
       "      <td>-0.076102</td>\n",
       "      <td>0.134085</td>\n",
       "      <td>0.035508</td>\n",
       "      <td>1.000000</td>\n",
       "    </tr>\n",
       "  </tbody>\n",
       "</table>\n",
       "</div>"
      ],
      "text/plain": [
       "                   age  position_cat  market_value  page_views  fpl_value  \\\n",
       "age           1.000000      0.220678     -0.132396   -0.048682  -0.097659   \n",
       "position_cat  0.220678      1.000000     -0.217637   -0.279432  -0.491800   \n",
       "market_value -0.132396     -0.217637      1.000000    0.739657   0.788653   \n",
       "page_views   -0.048682     -0.279432      0.739657    1.000000   0.730640   \n",
       "fpl_value    -0.097659     -0.491800      0.788653    0.730640   1.000000   \n",
       "fpl_points    0.187785     -0.084682      0.615155    0.542464   0.618837   \n",
       "region        0.080379     -0.067439      0.099114    0.027441   0.083883   \n",
       "new_foreign  -0.125400      0.001415      0.098056   -0.049725   0.108650   \n",
       "age_cat       0.972199      0.196853     -0.117682   -0.041672  -0.082056   \n",
       "club_id      -0.002868     -0.016599     -0.046068   -0.092409  -0.060884   \n",
       "big_club     -0.123566      0.017915      0.593483    0.502982   0.423556   \n",
       "new_signing  -0.079190     -0.105127      0.131321    0.127249   0.098314   \n",
       "\n",
       "              fpl_points    region  new_foreign   age_cat   club_id  big_club  \\\n",
       "age             0.187785  0.080379    -0.125400  0.972199 -0.002868 -0.123566   \n",
       "position_cat   -0.084682 -0.067439     0.001415  0.196853 -0.016599  0.017915   \n",
       "market_value    0.615155  0.099114     0.098056 -0.117682 -0.046068  0.593483   \n",
       "page_views      0.542464  0.027441    -0.049725 -0.041672 -0.092409  0.502982   \n",
       "fpl_value       0.618837  0.083883     0.108650 -0.082056 -0.060884  0.423556   \n",
       "fpl_points      1.000000 -0.011569    -0.204837  0.176572  0.041094  0.280061   \n",
       "region         -0.011569  1.000000     0.049800  0.085190  0.066483  0.035883   \n",
       "new_foreign    -0.204837  0.049800     1.000000 -0.113998 -0.002786  0.080949   \n",
       "age_cat         0.176572  0.085190    -0.113998  1.000000 -0.004668 -0.113835   \n",
       "club_id         0.041094  0.066483    -0.002786 -0.004668  1.000000 -0.155667   \n",
       "big_club        0.280061  0.035883     0.080949 -0.113835 -0.155667  1.000000   \n",
       "new_signing     0.085720  0.174007    -0.078193 -0.076102  0.134085  0.035508   \n",
       "\n",
       "              new_signing  \n",
       "age             -0.079190  \n",
       "position_cat    -0.105127  \n",
       "market_value     0.131321  \n",
       "page_views       0.127249  \n",
       "fpl_value        0.098314  \n",
       "fpl_points       0.085720  \n",
       "region           0.174007  \n",
       "new_foreign     -0.078193  \n",
       "age_cat         -0.076102  \n",
       "club_id          0.134085  \n",
       "big_club         0.035508  \n",
       "new_signing      1.000000  "
      ]
     },
     "execution_count": 32,
     "metadata": {},
     "output_type": "execute_result"
    }
   ],
   "source": [
    "df.corr(method='pearson')"
   ]
  },
  {
   "cell_type": "code",
   "execution_count": 33,
   "id": "946ef720",
   "metadata": {},
   "outputs": [
    {
     "data": {
      "image/png": "[encoded data removed]",
      "text/plain": [
       "<Figure size 1080x432 with 1 Axes>"
      ]
     },
     "metadata": {
      "needs_background": "light"
     },
     "output_type": "display_data"
    }
   ],
   "source": [
    "df_meanmv=pd.DataFrame(df.groupby(['club'])['market_value'].mean()).reset_index().sort_values('market_value',ascending=False)\n",
    "plt.subplots(figsize=(15,6))\n",
    "sns.barplot(x=\"club\", y=\"market_value\",data=df_meanmv,palette='hot',edgecolor=sns.color_palette('dark',7))\n",
    "plt.xticks(rotation=90)\n",
    "plt.title('Average of Market Value in Every Clubs')\n",
    "plt.show()"
   ]
  },
  {
   "cell_type": "code",
   "execution_count": 34,
   "id": "9f41a38b",
   "metadata": {},
   "outputs": [
    {
     "data": {
      "text/html": [
       "<div>\n",
       "<style scoped>\n",
       "    .dataframe tbody tr th:only-of-type {\n",
       "        vertical-align: middle;\n",
       "    }\n",
       "\n",
       "    .dataframe tbody tr th {\n",
       "        vertical-align: top;\n",
       "    }\n",
       "\n",
       "    .dataframe thead th {\n",
       "        text-align: right;\n",
       "    }\n",
       "</style>\n",
       "<table border=\"1\" class=\"dataframe\">\n",
       "  <thead>\n",
       "    <tr style=\"text-align: right;\">\n",
       "      <th></th>\n",
       "      <th>club</th>\n",
       "      <th>position_cat</th>\n",
       "      <th>market_value</th>\n",
       "    </tr>\n",
       "  </thead>\n",
       "  <tbody>\n",
       "    <tr>\n",
       "      <th>0</th>\n",
       "      <td>Arsenal</td>\n",
       "      <td>1</td>\n",
       "      <td>65.0</td>\n",
       "    </tr>\n",
       "    <tr>\n",
       "      <th>1</th>\n",
       "      <td>Arsenal</td>\n",
       "      <td>1</td>\n",
       "      <td>50.0</td>\n",
       "    </tr>\n",
       "    <tr>\n",
       "      <th>2</th>\n",
       "      <td>Arsenal</td>\n",
       "      <td>4</td>\n",
       "      <td>7.0</td>\n",
       "    </tr>\n",
       "    <tr>\n",
       "      <th>3</th>\n",
       "      <td>Arsenal</td>\n",
       "      <td>1</td>\n",
       "      <td>20.0</td>\n",
       "    </tr>\n",
       "    <tr>\n",
       "      <th>4</th>\n",
       "      <td>Arsenal</td>\n",
       "      <td>3</td>\n",
       "      <td>22.0</td>\n",
       "    </tr>\n",
       "    <tr>\n",
       "      <th>...</th>\n",
       "      <td>...</td>\n",
       "      <td>...</td>\n",
       "      <td>...</td>\n",
       "    </tr>\n",
       "    <tr>\n",
       "      <th>456</th>\n",
       "      <td>West+Ham</td>\n",
       "      <td>2</td>\n",
       "      <td>5.0</td>\n",
       "    </tr>\n",
       "    <tr>\n",
       "      <th>457</th>\n",
       "      <td>West+Ham</td>\n",
       "      <td>3</td>\n",
       "      <td>7.0</td>\n",
       "    </tr>\n",
       "    <tr>\n",
       "      <th>458</th>\n",
       "      <td>West+Ham</td>\n",
       "      <td>3</td>\n",
       "      <td>4.5</td>\n",
       "    </tr>\n",
       "    <tr>\n",
       "      <th>459</th>\n",
       "      <td>West+Ham</td>\n",
       "      <td>1</td>\n",
       "      <td>1.0</td>\n",
       "    </tr>\n",
       "    <tr>\n",
       "      <th>460</th>\n",
       "      <td>West+Ham</td>\n",
       "      <td>1</td>\n",
       "      <td>10.0</td>\n",
       "    </tr>\n",
       "  </tbody>\n",
       "</table>\n",
       "<p>461 rows × 3 columns</p>\n",
       "</div>"
      ],
      "text/plain": [
       "         club  position_cat  market_value\n",
       "0     Arsenal             1          65.0\n",
       "1     Arsenal             1          50.0\n",
       "2     Arsenal             4           7.0\n",
       "3     Arsenal             1          20.0\n",
       "4     Arsenal             3          22.0\n",
       "..        ...           ...           ...\n",
       "456  West+Ham             2           5.0\n",
       "457  West+Ham             3           7.0\n",
       "458  West+Ham             3           4.5\n",
       "459  West+Ham             1           1.0\n",
       "460  West+Ham             1          10.0\n",
       "\n",
       "[461 rows x 3 columns]"
      ]
     },
     "execution_count": 34,
     "metadata": {},
     "output_type": "execute_result"
    }
   ],
   "source": [
    "df1=df.iloc[:,[1,4,5]]\n",
    "\n",
    "df1"
   ]
  },
  {
   "cell_type": "code",
   "execution_count": 35,
   "id": "f2b629bd",
   "metadata": {},
   "outputs": [],
   "source": [
    "fig_size = plt.rcParams[\"figure.figsize\"]\n",
    "fig_size[0] = 30\n",
    "fig_size[1] = 10\n",
    "plt.rcParams[\"figure.figsize\"] = fig_size"
   ]
  },
  {
   "cell_type": "code",
   "execution_count": 36,
   "id": "2603be3f",
   "metadata": {},
   "outputs": [],
   "source": [
    "sns.set(font_scale=1.5)"
   ]
  },
  {
   "cell_type": "code",
   "execution_count": 37,
   "id": "f0db255a",
   "metadata": {},
   "outputs": [
    {
     "data": {
      "text/plain": [
       "<AxesSubplot:xlabel='club', ylabel='market_value'>"
      ]
     },
     "execution_count": 37,
     "metadata": {},
     "output_type": "execute_result"
    },
    {
     "data": {
      "image/png": "[encoded data removed]",
      "text/plain": [
       "<Figure size 2160x720 with 1 Axes>"
      ]
     },
     "metadata": {},
     "output_type": "display_data"
    }
   ],
   "source": [
    "sns.barplot(data=df,x='club',y='market_value',hue='position_cat')"
   ]
  },
  {
   "cell_type": "code",
   "execution_count": 38,
   "id": "935a2287",
   "metadata": {},
   "outputs": [
    {
     "data": {
      "text/html": [
       "<div>\n",
       "<style scoped>\n",
       "    .dataframe tbody tr th:only-of-type {\n",
       "        vertical-align: middle;\n",
       "    }\n",
       "\n",
       "    .dataframe tbody tr th {\n",
       "        vertical-align: top;\n",
       "    }\n",
       "\n",
       "    .dataframe thead th {\n",
       "        text-align: right;\n",
       "    }\n",
       "</style>\n",
       "<table border=\"1\" class=\"dataframe\">\n",
       "  <thead>\n",
       "    <tr style=\"text-align: right;\">\n",
       "      <th></th>\n",
       "      <th>club</th>\n",
       "      <th>market_value</th>\n",
       "    </tr>\n",
       "  </thead>\n",
       "  <tbody>\n",
       "    <tr>\n",
       "      <th>0</th>\n",
       "      <td>Arsenal</td>\n",
       "      <td>19.642857</td>\n",
       "    </tr>\n",
       "    <tr>\n",
       "      <th>1</th>\n",
       "      <td>Bournemouth</td>\n",
       "      <td>4.895833</td>\n",
       "    </tr>\n",
       "    <tr>\n",
       "      <th>2</th>\n",
       "      <td>Brighton+and+Hove</td>\n",
       "      <td>2.522727</td>\n",
       "    </tr>\n",
       "    <tr>\n",
       "      <th>3</th>\n",
       "      <td>Burnley</td>\n",
       "      <td>3.958333</td>\n",
       "    </tr>\n",
       "    <tr>\n",
       "      <th>4</th>\n",
       "      <td>Chelsea</td>\n",
       "      <td>27.677500</td>\n",
       "    </tr>\n",
       "    <tr>\n",
       "      <th>5</th>\n",
       "      <td>Crystal+Palace</td>\n",
       "      <td>7.726190</td>\n",
       "    </tr>\n",
       "    <tr>\n",
       "      <th>6</th>\n",
       "      <td>Everton</td>\n",
       "      <td>10.098214</td>\n",
       "    </tr>\n",
       "    <tr>\n",
       "      <th>7</th>\n",
       "      <td>Huddersfield</td>\n",
       "      <td>1.791071</td>\n",
       "    </tr>\n",
       "    <tr>\n",
       "      <th>8</th>\n",
       "      <td>Leicester+City</td>\n",
       "      <td>8.645833</td>\n",
       "    </tr>\n",
       "    <tr>\n",
       "      <th>9</th>\n",
       "      <td>Liverpool</td>\n",
       "      <td>16.314815</td>\n",
       "    </tr>\n",
       "    <tr>\n",
       "      <th>10</th>\n",
       "      <td>Manchester+City</td>\n",
       "      <td>28.200000</td>\n",
       "    </tr>\n",
       "    <tr>\n",
       "      <th>11</th>\n",
       "      <td>Manchester+United</td>\n",
       "      <td>20.564000</td>\n",
       "    </tr>\n",
       "    <tr>\n",
       "      <th>12</th>\n",
       "      <td>Newcastle+United</td>\n",
       "      <td>5.202381</td>\n",
       "    </tr>\n",
       "    <tr>\n",
       "      <th>13</th>\n",
       "      <td>Southampton</td>\n",
       "      <td>10.000000</td>\n",
       "    </tr>\n",
       "    <tr>\n",
       "      <th>14</th>\n",
       "      <td>Stoke+City</td>\n",
       "      <td>6.818182</td>\n",
       "    </tr>\n",
       "    <tr>\n",
       "      <th>15</th>\n",
       "      <td>Swansea</td>\n",
       "      <td>5.560000</td>\n",
       "    </tr>\n",
       "    <tr>\n",
       "      <th>16</th>\n",
       "      <td>Tottenham</td>\n",
       "      <td>23.000000</td>\n",
       "    </tr>\n",
       "    <tr>\n",
       "      <th>17</th>\n",
       "      <td>Watford</td>\n",
       "      <td>5.166667</td>\n",
       "    </tr>\n",
       "    <tr>\n",
       "      <th>18</th>\n",
       "      <td>West+Brom</td>\n",
       "      <td>5.328947</td>\n",
       "    </tr>\n",
       "    <tr>\n",
       "      <th>19</th>\n",
       "      <td>West+Ham</td>\n",
       "      <td>8.818182</td>\n",
       "    </tr>\n",
       "  </tbody>\n",
       "</table>\n",
       "</div>"
      ],
      "text/plain": [
       "                 club  market_value\n",
       "0             Arsenal     19.642857\n",
       "1         Bournemouth      4.895833\n",
       "2   Brighton+and+Hove      2.522727\n",
       "3             Burnley      3.958333\n",
       "4             Chelsea     27.677500\n",
       "5      Crystal+Palace      7.726190\n",
       "6             Everton     10.098214\n",
       "7        Huddersfield      1.791071\n",
       "8      Leicester+City      8.645833\n",
       "9           Liverpool     16.314815\n",
       "10    Manchester+City     28.200000\n",
       "11  Manchester+United     20.564000\n",
       "12   Newcastle+United      5.202381\n",
       "13        Southampton     10.000000\n",
       "14         Stoke+City      6.818182\n",
       "15            Swansea      5.560000\n",
       "16          Tottenham     23.000000\n",
       "17            Watford      5.166667\n",
       "18          West+Brom      5.328947\n",
       "19           West+Ham      8.818182"
      ]
     },
     "execution_count": 38,
     "metadata": {},
     "output_type": "execute_result"
    }
   ],
   "source": [
    "df_task2=df.loc[:,['club','market_value']]\n",
    "\n",
    "df_grouped2=df_task2.groupby('club')\n",
    "df_mean=df_grouped2.mean()\n",
    "df_mean=df_mean.reset_index()\n",
    "\n",
    "df_mean"
   ]
  },
  {
   "cell_type": "code",
   "execution_count": 39,
   "id": "259d4637",
   "metadata": {},
   "outputs": [
    {
     "data": {
      "text/plain": [
       "<AxesSubplot:xlabel='club', ylabel='market_value'>"
      ]
     },
     "execution_count": 39,
     "metadata": {},
     "output_type": "execute_result"
    },
    {
     "data": {
      "image/png": "[encoded data removed]",
      "text/plain": [
       "<Figure size 2160x720 with 1 Axes>"
      ]
     },
     "metadata": {},
     "output_type": "display_data"
    }
   ],
   "source": [
    "df_mean.sort_values('market_value',axis=0,ascending=False,inplace=True,na_position='last')\n",
    "sns.barplot(data=df_mean,x='club',y='market_value')"
   ]
  },
  {
   "cell_type": "code",
   "execution_count": 40,
   "id": "84d8984e",
   "metadata": {},
   "outputs": [
    {
     "data": {
      "text/plain": [
       "<AxesSubplot:>"
      ]
     },
     "execution_count": 40,
     "metadata": {},
     "output_type": "execute_result"
    },
    {
     "data": {
      "image/png": "[encoded data removed]",
      "text/plain": [
       "<Figure size 2160x720 with 2 Axes>"
      ]
     },
     "metadata": {},
     "output_type": "display_data"
    }
   ],
   "source": [
    "sns.heatmap(df.corr() , xticklabels= df.corr().columns , yticklabels= df.corr().columns)"
   ]
  },
  {
   "cell_type": "code",
   "execution_count": 41,
   "id": "8736091b",
   "metadata": {},
   "outputs": [
    {
     "data": {
      "text/plain": [
       "Text(0.5, 1.0, 'Distribution of Rating')"
      ]
     },
     "execution_count": 41,
     "metadata": {},
     "output_type": "execute_result"
    },
    {
     "data": {
      "image/png": "[encoded data removed]",
      "text/plain": [
       "<Figure size 1440x720 with 1 Axes>"
      ]
     },
     "metadata": {},
     "output_type": "display_data"
    }
   ],
   "source": [
    "fig_dims = (20, 10)\n",
    "fig, ax = plt.subplots(figsize=fig_dims)\n",
    "sns.countplot(x='club',data=df, ax=ax)\n",
    "plt.title(\"Distribution of Rating\")"
   ]
  }
 ],
 "metadata": {
  "kernelspec": {
   "display_name": "Python 3 (ipykernel)",
   "language": "python",
   "name": "python3"
  },
  "language_info": {
   "codemirror_mode": {
    "name": "ipython",
    "version": 3
   },
   "file_extension": ".py",
   "mimetype": "text/x-python",
   "name": "python",
   "nbconvert_exporter": "python",
   "pygments_lexer": "ipython3",
   "version": "3.9.12"
  }
 },
 "nbformat": 4,
 "nbformat_minor": 5
}
